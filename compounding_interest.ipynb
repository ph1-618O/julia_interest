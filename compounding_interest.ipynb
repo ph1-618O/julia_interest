{
 "cells": [
  {
   "cell_type": "code",
   "execution_count": null,
   "metadata": {},
   "outputs": [],
   "source": [
    "# A program that calculates compounding interest"
   ]
  },
  {
   "cell_type": "markdown",
   "metadata": {},
   "source": [
    "# $$ A = P(1+ \\frac{r}{n})^{nt} $$\n",
    "\n",
    "- A =  Final Amount\n",
    "- P = Initial Priciple Balance\n",
    "- r =  interest rate\n",
    "- n =  number of times interest applied over time\n",
    "- t = number of time periods elapsed"
   ]
  },
  {
   "cell_type": "code",
   "execution_count": 15,
   "metadata": {},
   "outputs": [
    {
     "data": {
      "text/plain": [
       "cal_interest (generic function with 4 methods)"
      ]
     },
     "execution_count": 15,
     "metadata": {},
     "output_type": "execute_result"
    }
   ],
   "source": [
    "function cal_interest(r, P=0, n=12, t=1)\n",
    "    return P(1 + (r/n)^(n*t))  \n",
    "end"
   ]
  },
  {
   "cell_type": "code",
   "execution_count": 16,
   "metadata": {},
   "outputs": [
    {
     "ename": "MethodError",
     "evalue": "\u001b[91mMethodError: objects of type Int64 are not callable\u001b[39m",
     "output_type": "error",
     "traceback": [
      "\u001b[91mMethodError: objects of type Int64 are not callable\u001b[39m",
      "",
      "Stacktrace:",
      " [1] cal_interest(::Int64, ::Int64, ::Int64, ::Int64) at .\\In[15]:2",
      " [2] top-level scope at In[16]:1"
     ]
    }
   ],
   "source": [
    "cal_interest(12, 0, 12, 1)"
   ]
  },
  {
   "cell_type": "code",
   "execution_count": 2,
   "metadata": {},
   "outputs": [
    {
     "name": "stdout",
     "output_type": "stream",
     "text": [
      "What is the intetest rate?\n",
      "\n",
      "\n",
      "stdin> .45\n",
      ".45\n"
     ]
    }
   ],
   "source": [
    "println(\"What is the intetest rate?\\n\\n\")\n",
    "r = readline()\n",
    "println(r)\n",
    "if typeof(r) == typeof(\"s\")\n",
    "    println(\"Invalid Input, you must choose a percent or number\\n\\n\")\n",
    "    println(\"What is the interest rate?\\n\\n\")\n",
    "    r = readline()\n",
    "elif typeof(r) != typeof(.01)\n",
    "    \n",
    "    \n",
    "    "
   ]
  },
  {
   "cell_type": "code",
   "execution_count": null,
   "metadata": {},
   "outputs": [],
   "source": []
  }
 ],
 "metadata": {
  "kernelspec": {
   "display_name": "Julia 1.0.5",
   "language": "julia",
   "name": "julia-1.0"
  },
  "language_info": {
   "file_extension": ".jl",
   "mimetype": "application/julia",
   "name": "julia",
   "version": "1.0.5"
  }
 },
 "nbformat": 4,
 "nbformat_minor": 4
}
